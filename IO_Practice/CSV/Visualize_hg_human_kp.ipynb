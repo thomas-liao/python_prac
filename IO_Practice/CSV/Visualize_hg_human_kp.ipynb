{
 "cells": [
  {
   "cell_type": "code",
   "execution_count": 1,
   "metadata": {},
   "outputs": [
    {
     "name": "stdout",
     "output_type": "stream",
     "text": [
      "Populating the interactive namespace from numpy and matplotlib\n"
     ]
    }
   ],
   "source": [
    "import pandas as pd\n",
    "import csv\n",
    "import matplotlib.pyplot as plt\n",
    "% pylab inline\n"
   ]
  },
  {
   "cell_type": "code",
   "execution_count": 2,
   "metadata": {},
   "outputs": [],
   "source": [
    "df_loss = pd.read_csv('loss_log.csv')\n",
    "df_accur = pd.read_csv('accur_log.csv')"
   ]
  },
  {
   "cell_type": "markdown",
   "metadata": {},
   "source": [
    "# Loss"
   ]
  },
  {
   "cell_type": "code",
   "execution_count": 3,
   "metadata": {},
   "outputs": [
    {
     "name": "stdout",
     "output_type": "stream",
     "text": [
      "1461\n",
      "146\n"
     ]
    },
    {
     "data": {
      "text/html": [
       "<div>\n",
       "<style scoped>\n",
       "    .dataframe tbody tr th:only-of-type {\n",
       "        vertical-align: middle;\n",
       "    }\n",
       "\n",
       "    .dataframe tbody tr th {\n",
       "        vertical-align: top;\n",
       "    }\n",
       "\n",
       "    .dataframe thead th {\n",
       "        text-align: right;\n",
       "    }\n",
       "</style>\n",
       "<table border=\"1\" class=\"dataframe\">\n",
       "  <thead>\n",
       "    <tr style=\"text-align: right;\">\n",
       "      <th></th>\n",
       "      <th>iter_count</th>\n",
       "      <th>loss</th>\n",
       "    </tr>\n",
       "  </thead>\n",
       "  <tbody>\n",
       "    <tr>\n",
       "      <th>0</th>\n",
       "      <td>100</td>\n",
       "      <td>0.718964</td>\n",
       "    </tr>\n",
       "    <tr>\n",
       "      <th>1</th>\n",
       "      <td>200</td>\n",
       "      <td>0.249534</td>\n",
       "    </tr>\n",
       "    <tr>\n",
       "      <th>2</th>\n",
       "      <td>300</td>\n",
       "      <td>0.144453</td>\n",
       "    </tr>\n",
       "    <tr>\n",
       "      <th>3</th>\n",
       "      <td>400</td>\n",
       "      <td>0.121753</td>\n",
       "    </tr>\n",
       "    <tr>\n",
       "      <th>4</th>\n",
       "      <td>500</td>\n",
       "      <td>0.104853</td>\n",
       "    </tr>\n",
       "  </tbody>\n",
       "</table>\n",
       "</div>"
      ],
      "text/plain": [
       "   iter_count      loss\n",
       "0         100  0.718964\n",
       "1         200  0.249534\n",
       "2         300  0.144453\n",
       "3         400  0.121753\n",
       "4         500  0.104853"
      ]
     },
     "execution_count": 3,
     "metadata": {},
     "output_type": "execute_result"
    }
   ],
   "source": [
    "print(len(df_loss))\n",
    "print(len(df_accur))\n",
    "df_loss.head()\n"
   ]
  },
  {
   "cell_type": "code",
   "execution_count": 4,
   "metadata": {},
   "outputs": [
    {
     "data": {
      "text/html": [
       "<div>\n",
       "<style scoped>\n",
       "    .dataframe tbody tr th:only-of-type {\n",
       "        vertical-align: middle;\n",
       "    }\n",
       "\n",
       "    .dataframe tbody tr th {\n",
       "        vertical-align: top;\n",
       "    }\n",
       "\n",
       "    .dataframe thead th {\n",
       "        text-align: right;\n",
       "    }\n",
       "</style>\n",
       "<table border=\"1\" class=\"dataframe\">\n",
       "  <thead>\n",
       "    <tr style=\"text-align: right;\">\n",
       "      <th></th>\n",
       "      <th>Iter</th>\n",
       "      <th>avg_accur</th>\n",
       "      <th>head</th>\n",
       "      <th>neck</th>\n",
       "      <th>r_hip</th>\n",
       "      <th>l_anckle</th>\n",
       "      <th>l_wrist</th>\n",
       "      <th>l_knee</th>\n",
       "      <th>l_shoulder</th>\n",
       "      <th>l_hip</th>\n",
       "      <th>r_knee</th>\n",
       "      <th>r_shoulder</th>\n",
       "      <th>pelvis</th>\n",
       "      <th>l_elbow</th>\n",
       "      <th>r_anckle</th>\n",
       "      <th>r_elbow</th>\n",
       "      <th>thorax</th>\n",
       "      <th>r_wrist</th>\n",
       "    </tr>\n",
       "  </thead>\n",
       "  <tbody>\n",
       "    <tr>\n",
       "      <th>126</th>\n",
       "      <td>127000</td>\n",
       "      <td>0.967419</td>\n",
       "      <td>0.979361</td>\n",
       "      <td>0.981367</td>\n",
       "      <td>0.970104</td>\n",
       "      <td>0.952312</td>\n",
       "      <td>0.955792</td>\n",
       "      <td>0.958492</td>\n",
       "      <td>0.976166</td>\n",
       "      <td>0.969957</td>\n",
       "      <td>0.963474</td>\n",
       "      <td>0.975508</td>\n",
       "      <td>0.975133</td>\n",
       "      <td>0.970556</td>\n",
       "      <td>0.958314</td>\n",
       "      <td>0.963489</td>\n",
       "      <td>0.982694</td>\n",
       "      <td>0.945990</td>\n",
       "    </tr>\n",
       "    <tr>\n",
       "      <th>127</th>\n",
       "      <td>128000</td>\n",
       "      <td>0.963984</td>\n",
       "      <td>0.975226</td>\n",
       "      <td>0.980337</td>\n",
       "      <td>0.965207</td>\n",
       "      <td>0.953904</td>\n",
       "      <td>0.950014</td>\n",
       "      <td>0.961077</td>\n",
       "      <td>0.973430</td>\n",
       "      <td>0.967963</td>\n",
       "      <td>0.961187</td>\n",
       "      <td>0.972019</td>\n",
       "      <td>0.970798</td>\n",
       "      <td>0.960445</td>\n",
       "      <td>0.948433</td>\n",
       "      <td>0.962023</td>\n",
       "      <td>0.980518</td>\n",
       "      <td>0.941172</td>\n",
       "    </tr>\n",
       "    <tr>\n",
       "      <th>128</th>\n",
       "      <td>129000</td>\n",
       "      <td>0.961147</td>\n",
       "      <td>0.976268</td>\n",
       "      <td>0.976424</td>\n",
       "      <td>0.964570</td>\n",
       "      <td>0.956256</td>\n",
       "      <td>0.935069</td>\n",
       "      <td>0.958443</td>\n",
       "      <td>0.966903</td>\n",
       "      <td>0.964515</td>\n",
       "      <td>0.961329</td>\n",
       "      <td>0.967291</td>\n",
       "      <td>0.969005</td>\n",
       "      <td>0.952984</td>\n",
       "      <td>0.948608</td>\n",
       "      <td>0.957122</td>\n",
       "      <td>0.976783</td>\n",
       "      <td>0.946776</td>\n",
       "    </tr>\n",
       "    <tr>\n",
       "      <th>129</th>\n",
       "      <td>130000</td>\n",
       "      <td>0.964730</td>\n",
       "      <td>0.976348</td>\n",
       "      <td>0.981723</td>\n",
       "      <td>0.964968</td>\n",
       "      <td>0.957155</td>\n",
       "      <td>0.947501</td>\n",
       "      <td>0.961169</td>\n",
       "      <td>0.971734</td>\n",
       "      <td>0.965941</td>\n",
       "      <td>0.962695</td>\n",
       "      <td>0.973546</td>\n",
       "      <td>0.969812</td>\n",
       "      <td>0.963710</td>\n",
       "      <td>0.952883</td>\n",
       "      <td>0.957807</td>\n",
       "      <td>0.981548</td>\n",
       "      <td>0.947147</td>\n",
       "    </tr>\n",
       "    <tr>\n",
       "      <th>130</th>\n",
       "      <td>131000</td>\n",
       "      <td>0.965691</td>\n",
       "      <td>0.981526</td>\n",
       "      <td>0.983320</td>\n",
       "      <td>0.967992</td>\n",
       "      <td>0.958447</td>\n",
       "      <td>0.939338</td>\n",
       "      <td>0.961704</td>\n",
       "      <td>0.974103</td>\n",
       "      <td>0.965201</td>\n",
       "      <td>0.958481</td>\n",
       "      <td>0.976937</td>\n",
       "      <td>0.971976</td>\n",
       "      <td>0.959280</td>\n",
       "      <td>0.956671</td>\n",
       "      <td>0.962303</td>\n",
       "      <td>0.982392</td>\n",
       "      <td>0.951391</td>\n",
       "    </tr>\n",
       "    <tr>\n",
       "      <th>131</th>\n",
       "      <td>132000</td>\n",
       "      <td>0.965236</td>\n",
       "      <td>0.980067</td>\n",
       "      <td>0.982735</td>\n",
       "      <td>0.969463</td>\n",
       "      <td>0.959690</td>\n",
       "      <td>0.943363</td>\n",
       "      <td>0.958429</td>\n",
       "      <td>0.973938</td>\n",
       "      <td>0.968187</td>\n",
       "      <td>0.960286</td>\n",
       "      <td>0.972192</td>\n",
       "      <td>0.974437</td>\n",
       "      <td>0.960097</td>\n",
       "      <td>0.952553</td>\n",
       "      <td>0.960238</td>\n",
       "      <td>0.982072</td>\n",
       "      <td>0.946025</td>\n",
       "    </tr>\n",
       "    <tr>\n",
       "      <th>132</th>\n",
       "      <td>133000</td>\n",
       "      <td>0.962325</td>\n",
       "      <td>0.980202</td>\n",
       "      <td>0.978732</td>\n",
       "      <td>0.965795</td>\n",
       "      <td>0.954964</td>\n",
       "      <td>0.945057</td>\n",
       "      <td>0.963133</td>\n",
       "      <td>0.973257</td>\n",
       "      <td>0.961950</td>\n",
       "      <td>0.956776</td>\n",
       "      <td>0.972946</td>\n",
       "      <td>0.969742</td>\n",
       "      <td>0.956988</td>\n",
       "      <td>0.937371</td>\n",
       "      <td>0.958896</td>\n",
       "      <td>0.979292</td>\n",
       "      <td>0.942103</td>\n",
       "    </tr>\n",
       "    <tr>\n",
       "      <th>133</th>\n",
       "      <td>134000</td>\n",
       "      <td>0.963829</td>\n",
       "      <td>0.980081</td>\n",
       "      <td>0.981081</td>\n",
       "      <td>0.967204</td>\n",
       "      <td>0.945538</td>\n",
       "      <td>0.950417</td>\n",
       "      <td>0.958669</td>\n",
       "      <td>0.974896</td>\n",
       "      <td>0.965022</td>\n",
       "      <td>0.963283</td>\n",
       "      <td>0.972748</td>\n",
       "      <td>0.969697</td>\n",
       "      <td>0.963488</td>\n",
       "      <td>0.948949</td>\n",
       "      <td>0.957312</td>\n",
       "      <td>0.980853</td>\n",
       "      <td>0.942030</td>\n",
       "    </tr>\n",
       "    <tr>\n",
       "      <th>134</th>\n",
       "      <td>135000</td>\n",
       "      <td>0.966643</td>\n",
       "      <td>0.983262</td>\n",
       "      <td>0.983602</td>\n",
       "      <td>0.969901</td>\n",
       "      <td>0.956576</td>\n",
       "      <td>0.949978</td>\n",
       "      <td>0.961487</td>\n",
       "      <td>0.975359</td>\n",
       "      <td>0.971313</td>\n",
       "      <td>0.953084</td>\n",
       "      <td>0.974548</td>\n",
       "      <td>0.974914</td>\n",
       "      <td>0.967197</td>\n",
       "      <td>0.952503</td>\n",
       "      <td>0.962848</td>\n",
       "      <td>0.982584</td>\n",
       "      <td>0.947130</td>\n",
       "    </tr>\n",
       "    <tr>\n",
       "      <th>135</th>\n",
       "      <td>136000</td>\n",
       "      <td>0.963646</td>\n",
       "      <td>0.979592</td>\n",
       "      <td>0.982775</td>\n",
       "      <td>0.967373</td>\n",
       "      <td>0.945309</td>\n",
       "      <td>0.940540</td>\n",
       "      <td>0.953178</td>\n",
       "      <td>0.974058</td>\n",
       "      <td>0.969980</td>\n",
       "      <td>0.961196</td>\n",
       "      <td>0.974106</td>\n",
       "      <td>0.974174</td>\n",
       "      <td>0.961157</td>\n",
       "      <td>0.951421</td>\n",
       "      <td>0.960368</td>\n",
       "      <td>0.982693</td>\n",
       "      <td>0.940418</td>\n",
       "    </tr>\n",
       "    <tr>\n",
       "      <th>136</th>\n",
       "      <td>137000</td>\n",
       "      <td>0.963767</td>\n",
       "      <td>0.981606</td>\n",
       "      <td>0.984521</td>\n",
       "      <td>0.963945</td>\n",
       "      <td>0.950281</td>\n",
       "      <td>0.945577</td>\n",
       "      <td>0.961922</td>\n",
       "      <td>0.976560</td>\n",
       "      <td>0.968024</td>\n",
       "      <td>0.952933</td>\n",
       "      <td>0.972736</td>\n",
       "      <td>0.968522</td>\n",
       "      <td>0.961146</td>\n",
       "      <td>0.947937</td>\n",
       "      <td>0.958196</td>\n",
       "      <td>0.984183</td>\n",
       "      <td>0.942186</td>\n",
       "    </tr>\n",
       "    <tr>\n",
       "      <th>137</th>\n",
       "      <td>138000</td>\n",
       "      <td>0.965525</td>\n",
       "      <td>0.978153</td>\n",
       "      <td>0.982318</td>\n",
       "      <td>0.969456</td>\n",
       "      <td>0.955594</td>\n",
       "      <td>0.945294</td>\n",
       "      <td>0.959978</td>\n",
       "      <td>0.973507</td>\n",
       "      <td>0.966676</td>\n",
       "      <td>0.957732</td>\n",
       "      <td>0.978394</td>\n",
       "      <td>0.972221</td>\n",
       "      <td>0.960126</td>\n",
       "      <td>0.957220</td>\n",
       "      <td>0.963671</td>\n",
       "      <td>0.983764</td>\n",
       "      <td>0.944297</td>\n",
       "    </tr>\n",
       "    <tr>\n",
       "      <th>138</th>\n",
       "      <td>139000</td>\n",
       "      <td>0.965975</td>\n",
       "      <td>0.977164</td>\n",
       "      <td>0.983863</td>\n",
       "      <td>0.967772</td>\n",
       "      <td>0.954318</td>\n",
       "      <td>0.948787</td>\n",
       "      <td>0.957708</td>\n",
       "      <td>0.978064</td>\n",
       "      <td>0.970113</td>\n",
       "      <td>0.960484</td>\n",
       "      <td>0.973655</td>\n",
       "      <td>0.972543</td>\n",
       "      <td>0.963490</td>\n",
       "      <td>0.952311</td>\n",
       "      <td>0.965653</td>\n",
       "      <td>0.982370</td>\n",
       "      <td>0.947304</td>\n",
       "    </tr>\n",
       "    <tr>\n",
       "      <th>139</th>\n",
       "      <td>140000</td>\n",
       "      <td>0.965007</td>\n",
       "      <td>0.976018</td>\n",
       "      <td>0.981338</td>\n",
       "      <td>0.965038</td>\n",
       "      <td>0.952192</td>\n",
       "      <td>0.948111</td>\n",
       "      <td>0.963171</td>\n",
       "      <td>0.974078</td>\n",
       "      <td>0.968471</td>\n",
       "      <td>0.963521</td>\n",
       "      <td>0.967591</td>\n",
       "      <td>0.970481</td>\n",
       "      <td>0.966386</td>\n",
       "      <td>0.963550</td>\n",
       "      <td>0.957699</td>\n",
       "      <td>0.979043</td>\n",
       "      <td>0.943417</td>\n",
       "    </tr>\n",
       "    <tr>\n",
       "      <th>140</th>\n",
       "      <td>141000</td>\n",
       "      <td>0.964353</td>\n",
       "      <td>0.982546</td>\n",
       "      <td>0.984855</td>\n",
       "      <td>0.965338</td>\n",
       "      <td>0.954315</td>\n",
       "      <td>0.945891</td>\n",
       "      <td>0.953375</td>\n",
       "      <td>0.977775</td>\n",
       "      <td>0.963152</td>\n",
       "      <td>0.950915</td>\n",
       "      <td>0.974368</td>\n",
       "      <td>0.968559</td>\n",
       "      <td>0.964004</td>\n",
       "      <td>0.949476</td>\n",
       "      <td>0.963510</td>\n",
       "      <td>0.984169</td>\n",
       "      <td>0.947394</td>\n",
       "    </tr>\n",
       "    <tr>\n",
       "      <th>141</th>\n",
       "      <td>142000</td>\n",
       "      <td>0.956305</td>\n",
       "      <td>0.969882</td>\n",
       "      <td>0.976528</td>\n",
       "      <td>0.959842</td>\n",
       "      <td>0.939713</td>\n",
       "      <td>0.925954</td>\n",
       "      <td>0.951950</td>\n",
       "      <td>0.966474</td>\n",
       "      <td>0.961694</td>\n",
       "      <td>0.954657</td>\n",
       "      <td>0.970206</td>\n",
       "      <td>0.964489</td>\n",
       "      <td>0.949800</td>\n",
       "      <td>0.944158</td>\n",
       "      <td>0.956403</td>\n",
       "      <td>0.977360</td>\n",
       "      <td>0.931767</td>\n",
       "    </tr>\n",
       "    <tr>\n",
       "      <th>142</th>\n",
       "      <td>143000</td>\n",
       "      <td>0.967889</td>\n",
       "      <td>0.981631</td>\n",
       "      <td>0.985666</td>\n",
       "      <td>0.971176</td>\n",
       "      <td>0.961495</td>\n",
       "      <td>0.948817</td>\n",
       "      <td>0.960373</td>\n",
       "      <td>0.977085</td>\n",
       "      <td>0.969045</td>\n",
       "      <td>0.958483</td>\n",
       "      <td>0.975761</td>\n",
       "      <td>0.974496</td>\n",
       "      <td>0.962557</td>\n",
       "      <td>0.953823</td>\n",
       "      <td>0.963681</td>\n",
       "      <td>0.984585</td>\n",
       "      <td>0.957543</td>\n",
       "    </tr>\n",
       "    <tr>\n",
       "      <th>143</th>\n",
       "      <td>144000</td>\n",
       "      <td>0.964701</td>\n",
       "      <td>0.979894</td>\n",
       "      <td>0.981592</td>\n",
       "      <td>0.962653</td>\n",
       "      <td>0.947237</td>\n",
       "      <td>0.950175</td>\n",
       "      <td>0.958646</td>\n",
       "      <td>0.974483</td>\n",
       "      <td>0.962093</td>\n",
       "      <td>0.965090</td>\n",
       "      <td>0.974039</td>\n",
       "      <td>0.968149</td>\n",
       "      <td>0.964234</td>\n",
       "      <td>0.951104</td>\n",
       "      <td>0.961692</td>\n",
       "      <td>0.981118</td>\n",
       "      <td>0.953023</td>\n",
       "    </tr>\n",
       "    <tr>\n",
       "      <th>144</th>\n",
       "      <td>145000</td>\n",
       "      <td>0.964906</td>\n",
       "      <td>0.976643</td>\n",
       "      <td>0.979132</td>\n",
       "      <td>0.963513</td>\n",
       "      <td>0.961559</td>\n",
       "      <td>0.944249</td>\n",
       "      <td>0.959214</td>\n",
       "      <td>0.974412</td>\n",
       "      <td>0.966164</td>\n",
       "      <td>0.959850</td>\n",
       "      <td>0.974913</td>\n",
       "      <td>0.970683</td>\n",
       "      <td>0.961644</td>\n",
       "      <td>0.955394</td>\n",
       "      <td>0.963597</td>\n",
       "      <td>0.979329</td>\n",
       "      <td>0.948199</td>\n",
       "    </tr>\n",
       "    <tr>\n",
       "      <th>145</th>\n",
       "      <td>146000</td>\n",
       "      <td>0.966008</td>\n",
       "      <td>0.979217</td>\n",
       "      <td>0.983905</td>\n",
       "      <td>0.970595</td>\n",
       "      <td>0.956080</td>\n",
       "      <td>0.943304</td>\n",
       "      <td>0.960294</td>\n",
       "      <td>0.973842</td>\n",
       "      <td>0.968740</td>\n",
       "      <td>0.958673</td>\n",
       "      <td>0.977525</td>\n",
       "      <td>0.972501</td>\n",
       "      <td>0.955353</td>\n",
       "      <td>0.953824</td>\n",
       "      <td>0.964112</td>\n",
       "      <td>0.983995</td>\n",
       "      <td>0.954174</td>\n",
       "    </tr>\n",
       "  </tbody>\n",
       "</table>\n",
       "</div>"
      ],
      "text/plain": [
       "       Iter  avg_accur      head      neck     r_hip  l_anckle   l_wrist  \\\n",
       "126  127000   0.967419  0.979361  0.981367  0.970104  0.952312  0.955792   \n",
       "127  128000   0.963984  0.975226  0.980337  0.965207  0.953904  0.950014   \n",
       "128  129000   0.961147  0.976268  0.976424  0.964570  0.956256  0.935069   \n",
       "129  130000   0.964730  0.976348  0.981723  0.964968  0.957155  0.947501   \n",
       "130  131000   0.965691  0.981526  0.983320  0.967992  0.958447  0.939338   \n",
       "131  132000   0.965236  0.980067  0.982735  0.969463  0.959690  0.943363   \n",
       "132  133000   0.962325  0.980202  0.978732  0.965795  0.954964  0.945057   \n",
       "133  134000   0.963829  0.980081  0.981081  0.967204  0.945538  0.950417   \n",
       "134  135000   0.966643  0.983262  0.983602  0.969901  0.956576  0.949978   \n",
       "135  136000   0.963646  0.979592  0.982775  0.967373  0.945309  0.940540   \n",
       "136  137000   0.963767  0.981606  0.984521  0.963945  0.950281  0.945577   \n",
       "137  138000   0.965525  0.978153  0.982318  0.969456  0.955594  0.945294   \n",
       "138  139000   0.965975  0.977164  0.983863  0.967772  0.954318  0.948787   \n",
       "139  140000   0.965007  0.976018  0.981338  0.965038  0.952192  0.948111   \n",
       "140  141000   0.964353  0.982546  0.984855  0.965338  0.954315  0.945891   \n",
       "141  142000   0.956305  0.969882  0.976528  0.959842  0.939713  0.925954   \n",
       "142  143000   0.967889  0.981631  0.985666  0.971176  0.961495  0.948817   \n",
       "143  144000   0.964701  0.979894  0.981592  0.962653  0.947237  0.950175   \n",
       "144  145000   0.964906  0.976643  0.979132  0.963513  0.961559  0.944249   \n",
       "145  146000   0.966008  0.979217  0.983905  0.970595  0.956080  0.943304   \n",
       "\n",
       "       l_knee  l_shoulder     l_hip    r_knee  r_shoulder    pelvis   l_elbow  \\\n",
       "126  0.958492    0.976166  0.969957  0.963474    0.975508  0.975133  0.970556   \n",
       "127  0.961077    0.973430  0.967963  0.961187    0.972019  0.970798  0.960445   \n",
       "128  0.958443    0.966903  0.964515  0.961329    0.967291  0.969005  0.952984   \n",
       "129  0.961169    0.971734  0.965941  0.962695    0.973546  0.969812  0.963710   \n",
       "130  0.961704    0.974103  0.965201  0.958481    0.976937  0.971976  0.959280   \n",
       "131  0.958429    0.973938  0.968187  0.960286    0.972192  0.974437  0.960097   \n",
       "132  0.963133    0.973257  0.961950  0.956776    0.972946  0.969742  0.956988   \n",
       "133  0.958669    0.974896  0.965022  0.963283    0.972748  0.969697  0.963488   \n",
       "134  0.961487    0.975359  0.971313  0.953084    0.974548  0.974914  0.967197   \n",
       "135  0.953178    0.974058  0.969980  0.961196    0.974106  0.974174  0.961157   \n",
       "136  0.961922    0.976560  0.968024  0.952933    0.972736  0.968522  0.961146   \n",
       "137  0.959978    0.973507  0.966676  0.957732    0.978394  0.972221  0.960126   \n",
       "138  0.957708    0.978064  0.970113  0.960484    0.973655  0.972543  0.963490   \n",
       "139  0.963171    0.974078  0.968471  0.963521    0.967591  0.970481  0.966386   \n",
       "140  0.953375    0.977775  0.963152  0.950915    0.974368  0.968559  0.964004   \n",
       "141  0.951950    0.966474  0.961694  0.954657    0.970206  0.964489  0.949800   \n",
       "142  0.960373    0.977085  0.969045  0.958483    0.975761  0.974496  0.962557   \n",
       "143  0.958646    0.974483  0.962093  0.965090    0.974039  0.968149  0.964234   \n",
       "144  0.959214    0.974412  0.966164  0.959850    0.974913  0.970683  0.961644   \n",
       "145  0.960294    0.973842  0.968740  0.958673    0.977525  0.972501  0.955353   \n",
       "\n",
       "     r_anckle   r_elbow    thorax   r_wrist  \n",
       "126  0.958314  0.963489  0.982694  0.945990  \n",
       "127  0.948433  0.962023  0.980518  0.941172  \n",
       "128  0.948608  0.957122  0.976783  0.946776  \n",
       "129  0.952883  0.957807  0.981548  0.947147  \n",
       "130  0.956671  0.962303  0.982392  0.951391  \n",
       "131  0.952553  0.960238  0.982072  0.946025  \n",
       "132  0.937371  0.958896  0.979292  0.942103  \n",
       "133  0.948949  0.957312  0.980853  0.942030  \n",
       "134  0.952503  0.962848  0.982584  0.947130  \n",
       "135  0.951421  0.960368  0.982693  0.940418  \n",
       "136  0.947937  0.958196  0.984183  0.942186  \n",
       "137  0.957220  0.963671  0.983764  0.944297  \n",
       "138  0.952311  0.965653  0.982370  0.947304  \n",
       "139  0.963550  0.957699  0.979043  0.943417  \n",
       "140  0.949476  0.963510  0.984169  0.947394  \n",
       "141  0.944158  0.956403  0.977360  0.931767  \n",
       "142  0.953823  0.963681  0.984585  0.957543  \n",
       "143  0.951104  0.961692  0.981118  0.953023  \n",
       "144  0.955394  0.963597  0.979329  0.948199  \n",
       "145  0.953824  0.964112  0.983995  0.954174  "
      ]
     },
     "execution_count": 4,
     "metadata": {},
     "output_type": "execute_result"
    }
   ],
   "source": [
    "df_accur[-20:]"
   ]
  },
  {
   "cell_type": "code",
   "execution_count": null,
   "metadata": {},
   "outputs": [],
   "source": []
  },
  {
   "cell_type": "code",
   "execution_count": 5,
   "metadata": {},
   "outputs": [
    {
     "data": {
      "text/plain": [
       "Text(0,0.5,'CE loss')"
      ]
     },
     "execution_count": 5,
     "metadata": {},
     "output_type": "execute_result"
    },
    {
     "data": {
      "image/png": "[encoded data removed]",
      "text/plain": [
       "<matplotlib.figure.Figure at 0x11056d390>"
      ]
     },
     "metadata": {},
     "output_type": "display_data"
    }
   ],
   "source": [
    "plt.plot(df_loss.iter_count.iloc[:-1], df_loss.loss[:-1])\n",
    "plt.title(\"loss vs. iter_count 0 - 14000\")\n",
    "plt.xlabel('iter_count')\n",
    "plt.ylabel('CE loss')"
   ]
  },
  {
   "cell_type": "code",
   "execution_count": null,
   "metadata": {},
   "outputs": [],
   "source": []
  },
  {
   "cell_type": "code",
   "execution_count": 6,
   "metadata": {},
   "outputs": [
    {
     "data": {
      "text/plain": [
       "Text(0,0.5,'CE loss')"
      ]
     },
     "execution_count": 6,
     "metadata": {},
     "output_type": "execute_result"
    },
    {
     "data": {
      "image/png": "[encoded data removed]",
      "text/plain": [
       "<matplotlib.figure.Figure at 0x114360048>"
      ]
     },
     "metadata": {},
     "output_type": "display_data"
    }
   ],
   "source": [
    "plt.plot(df_loss.iter_count.iloc[20:-1], df_loss.loss[20:-1])\n",
    "plt.title(\"loss vs. iter_count 0 - 14000\")\n",
    "plt.xlabel('iter_count')\n",
    "plt.ylabel('CE loss')"
   ]
  },
  {
   "cell_type": "code",
   "execution_count": 7,
   "metadata": {},
   "outputs": [
    {
     "data": {
      "text/plain": [
       "Text(0,0.5,'CE loss')"
      ]
     },
     "execution_count": 7,
     "metadata": {},
     "output_type": "execute_result"
    },
    {
     "data": {
      "image/png": "[encoded data removed]",
      "text/plain": [
       "<matplotlib.figure.Figure at 0x114389e48>"
      ]
     },
     "metadata": {},
     "output_type": "display_data"
    }
   ],
   "source": [
    "# moving average\n",
    "win_size = 30\n",
    "df_loss['MA'] = df_loss.loss.rolling(window=win_size).mean()\n",
    "\n",
    "plt.plot(df_loss.iter_count.iloc[200:-win_size+1], df_loss.MA[200:-win_size+1])\n",
    "plt.title(\"loss vs. iter_count \")\n",
    "plt.xlabel('iter_count')\n",
    "plt.ylabel('CE loss')"
   ]
  },
  {
   "cell_type": "code",
   "execution_count": 8,
   "metadata": {},
   "outputs": [
    {
     "data": {
      "text/plain": [
       "Text(0,0.5,'CE loss')"
      ]
     },
     "execution_count": 8,
     "metadata": {},
     "output_type": "execute_result"
    },
    {
     "data": {
      "image/png": "[encoded data removed]",
      "text/plain": [
       "<matplotlib.figure.Figure at 0x11437ce10>"
      ]
     },
     "metadata": {},
     "output_type": "display_data"
    }
   ],
   "source": [
    "plt.plot(df_loss.iter_count.iloc[800:-win_size+1], df_loss.MA[800:-win_size+1])\n",
    "plt.title(\"loss vs. iter_count \")\n",
    "plt.xlabel('iter_count')\n",
    "plt.ylabel('CE loss')"
   ]
  },
  {
   "cell_type": "markdown",
   "metadata": {},
   "source": [
    "# Accuracy"
   ]
  },
  {
   "cell_type": "code",
   "execution_count": null,
   "metadata": {},
   "outputs": [],
   "source": []
  },
  {
   "cell_type": "code",
   "execution_count": 9,
   "metadata": {},
   "outputs": [
    {
     "data": {
      "text/plain": [
       "Text(0,0.5,'Accuracdy')"
      ]
     },
     "execution_count": 9,
     "metadata": {},
     "output_type": "execute_result"
    },
    {
     "data": {
      "image/png": "[encoded data removed]",
      "text/plain": [
       "<matplotlib.figure.Figure at 0x1143a0390>"
      ]
     },
     "metadata": {},
     "output_type": "display_data"
    }
   ],
   "source": [
    "plt.plot(df_accur.Iter, df_accur.avg_accur)\n",
    "plt.title(\"Avg Accuracy vs. iter_count 0 - 14000\")\n",
    "plt.xlabel('iter_count')\n",
    "plt.ylabel('Accuracdy')"
   ]
  },
  {
   "cell_type": "code",
   "execution_count": 10,
   "metadata": {},
   "outputs": [
    {
     "data": {
      "text/plain": [
       "Text(0,0.5,'Accuracdy - Moving Avg (window=5)')"
      ]
     },
     "execution_count": 10,
     "metadata": {},
     "output_type": "execute_result"
    },
    {
     "data": {
      "image/png": "[encoded data removed]",
      "text/plain": [
       "<matplotlib.figure.Figure at 0x1144509b0>"
      ]
     },
     "metadata": {},
     "output_type": "display_data"
    }
   ],
   "source": [
    "# moving avg\n",
    "win_size = 10\n",
    "df_accur['MA'] = df_accur.avg_accur.rolling(window=win_size).mean()\n",
    "\n",
    "plt.plot(df_accur.Iter.iloc[win_size-1:-win_size+1], df_accur.MA[win_size-1:-win_size+1])\n",
    "plt.title(\"Avg Accuracy vs. iter_count 0 - 14000\")\n",
    "plt.xlabel('iter_count')\n",
    "plt.ylabel('Accuracdy - Moving Avg (window=5)')"
   ]
  },
  {
   "cell_type": "markdown",
   "metadata": {},
   "source": [
    "### Side note:\n",
    "Structure info: hg model: 4 stack, 4 down-step each HG module, non-modified version, non-tiny.\n",
    "optimizer: RMSprop\n",
    "training params: init_lr: 2.5e-4, decay=.979, batch_size = 16, epoch = 200, epoch_size = 1000"
   ]
  },
  {
   "cell_type": "markdown",
   "metadata": {},
   "source": [
    "# Result"
   ]
  },
  {
   "cell_type": "markdown",
   "metadata": {},
   "source": [
    "![image.png](attachment:image.png)"
   ]
  },
  {
   "cell_type": "markdown",
   "metadata": {},
   "source": [
    "![image.png](attachment:image.png)"
   ]
  },
  {
   "cell_type": "code",
   "execution_count": null,
   "metadata": {},
   "outputs": [],
   "source": []
  }
 ],
 "metadata": {
  "kernelspec": {
   "display_name": "Python 3",
   "language": "python",
   "name": "python3"
  },
  "language_info": {
   "codemirror_mode": {
    "name": "ipython",
    "version": 3
   },
   "file_extension": ".py",
   "mimetype": "text/x-python",
   "name": "python",
   "nbconvert_exporter": "python",
   "pygments_lexer": "ipython3",
   "version": "3.6.5"
  }
 },
 "nbformat": 4,
 "nbformat_minor": 2
}
